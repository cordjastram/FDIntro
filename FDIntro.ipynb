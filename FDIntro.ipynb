{
 "cells": [
  {
   "cell_type": "markdown",
   "metadata": {},
   "source": [
    "# 1D Wave Equation\n",
    "\n",
    "We start with the 1D wave equation where $p$ is the pressure and $c$ the velocity\n",
    "\n",
    "\\begin{equation}\n",
    "\\frac{\\partial^2 p}{\\partial t^2} = c^2 \\frac{\\partial^2 p}{\\partial x^2}\n",
    "\\end{equation}\n",
    "\n",
    "To solve the 2nd order equation we perform a discretization of $p$ in time $t$ and space $x$ using the spacing $\\Delta t$ and $\\Delta x$\n",
    " \n",
    "\\begin{equation}\n",
    "p^i_j = p(i \\Delta t, j \\Delta x)    \n",
    "\\end{equation}"
   ]
  },
  {
   "cell_type": "markdown",
   "metadata": {},
   "source": [
    "To solve the 2nd order equation we perform a discretization of $p$ in time $t$ and space $x$ using the spacing $\\Delta t$ and $\\Delta x$\n",
    " \n",
    "\\begin{equation}\n",
    "p^i_j = p(i \\Delta t, j \\Delta x)    \n",
    "\\end{equation}"
   ]
  },
  {
   "cell_type": "markdown",
   "metadata": {},
   "source": [
    "Then we can use a Taylor expansion at $t=0$ to get an approximation for $p$ at $t=\\Delta t$\n",
    "\n",
    "\\begin{equation}\n",
    "p^{1}_j = p^0_j + \\Delta t  \\frac{\\partial  p}{\\partial t } \\bigg|_{t = 0}\n",
    "                + \\frac{\\left(\\Delta t\\right)^2}{2!} \\frac{\\partial^2 p}{\\partial t^2} \\bigg|_{t = 0} \n",
    "                + \\frac{\\left(\\Delta t\\right)^3} {3!} \\frac{\\partial^2 p}{\\partial t^3} \\bigg|_{t = 0} + O(\\left(\\Delta t\\right) ^4)\n",
    "\\end{equation}"
   ]
  },
  {
   "cell_type": "markdown",
   "metadata": {},
   "source": [
    "where $O(\\left(\\Delta t\\right) ^4)$ is the truncation error. For $p$ at $t=-\\Delta t$ we get a similar result\n",
    "\\begin{equation}\n",
    "p^{-1}_j = p^0_j - \\Delta t  \\frac{\\partial  p}{\\partial t } \\bigg|_{t = 0}\n",
    "                + \\frac{\\left(\\Delta t\\right)^2}{2!} \\frac{\\partial^2 p}{\\partial t^2} \\bigg|_{t = 0} \n",
    "                - \\frac{\\left(\\Delta t\\right)^3} {3!} \\frac{\\partial^2 p}{\\partial t^3} \\bigg|_{t = 0} + O(\\left(\\Delta t\\right) ^4)\n",
    "\\end{equation}"
   ]
  },
  {
   "cell_type": "markdown",
   "metadata": {},
   "source": [
    "Now we add both expansions and after some rearangement we get\n",
    "\n",
    "\\begin{equation}\n",
    "\\frac{ p^{1}_j - 2 p^0_j + p^{-1}_j }{\\left(\\Delta t\\right)^2} =  \n",
    "                   \\frac{\\partial^2 p}{\\partial t^2} \\bigg|_{t = 0} \n",
    "                 + O(\\left(\\Delta t\\right) ^2)\n",
    "\\end{equation}"
   ]
  },
  {
   "cell_type": "markdown",
   "metadata": {},
   "source": [
    "For the spatial derivative we get a similar result:\n",
    "\n",
    "\\begin{equation}\n",
    "\\frac{ p^i_{1} - 2 p^i_0 + p^i_{-1} }{\\left(\\Delta x\\right)^2} =  \n",
    "                   \\frac{\\partial^2 p}{\\partial x^2} \\bigg|_{x = 0} \n",
    "                 + O(\\left(\\Delta x\\right) ^2)\n",
    "\\end{equation}"
   ]
  },
  {
   "cell_type": "code",
   "execution_count": 1,
   "metadata": {},
   "outputs": [
    {
     "ename": "UndefVarError",
     "evalue": "UndefVarError: `func` not defined in `Main`\nSuggestion: check for spelling errors or missing imports.",
     "output_type": "error",
     "traceback": [
      "UndefVarError: `func` not defined in `Main`\n",
      "Suggestion: check for spelling errors or missing imports.\n"
     ]
    }
   ],
   "source": [
    "func test()\n"
   ]
  },
  {
   "cell_type": "code",
   "execution_count": null,
   "metadata": {},
   "outputs": [],
   "source": []
  }
 ],
 "metadata": {
  "kernelspec": {
   "display_name": "Julia 1.11.2",
   "language": "julia",
   "name": "julia-1.11"
  },
  "language_info": {
   "file_extension": ".jl",
   "mimetype": "application/julia",
   "name": "julia",
   "version": "1.11.2"
  }
 },
 "nbformat": 4,
 "nbformat_minor": 2
}
